{
 "cells": [
  {
   "cell_type": "code",
   "execution_count": 20,
   "metadata": {},
   "outputs": [],
   "source": [
    "import pandas as pd\n",
    "import numpy as np\n",
    "import scipy.stats as st\n",
    "from scipy.stats import barnard_exact, ttest_ind\n",
    "import matplotlib.pyplot as plt\n",
    "import seaborn as sns"
   ]
  },
  {
   "cell_type": "markdown",
   "metadata": {},
   "source": [
    "# Load data"
   ]
  },
  {
   "cell_type": "code",
   "execution_count": 55,
   "metadata": {},
   "outputs": [
    {
     "data": {
      "text/html": [
       "<div>\n",
       "<style scoped>\n",
       "    .dataframe tbody tr th:only-of-type {\n",
       "        vertical-align: middle;\n",
       "    }\n",
       "\n",
       "    .dataframe tbody tr th {\n",
       "        vertical-align: top;\n",
       "    }\n",
       "\n",
       "    .dataframe thead th {\n",
       "        text-align: right;\n",
       "    }\n",
       "</style>\n",
       "<table border=\"1\" class=\"dataframe\">\n",
       "  <thead>\n",
       "    <tr style=\"text-align: right;\">\n",
       "      <th></th>\n",
       "      <th>plant_id</th>\n",
       "      <th>bed_id</th>\n",
       "      <th>bed_type</th>\n",
       "      <th>out_survive</th>\n",
       "      <th>height_1a</th>\n",
       "      <th>height_1b</th>\n",
       "      <th>height_1_date</th>\n",
       "    </tr>\n",
       "  </thead>\n",
       "  <tbody>\n",
       "    <tr>\n",
       "      <th>0</th>\n",
       "      <td>1</td>\n",
       "      <td>A</td>\n",
       "      <td>no-dig</td>\n",
       "      <td>1</td>\n",
       "      <td>70.0</td>\n",
       "      <td>69.0</td>\n",
       "      <td>2024-03-07</td>\n",
       "    </tr>\n",
       "    <tr>\n",
       "      <th>1</th>\n",
       "      <td>2</td>\n",
       "      <td>B</td>\n",
       "      <td>dig</td>\n",
       "      <td>1</td>\n",
       "      <td>70.0</td>\n",
       "      <td>77.0</td>\n",
       "      <td>2024-03-07</td>\n",
       "    </tr>\n",
       "    <tr>\n",
       "      <th>2</th>\n",
       "      <td>3</td>\n",
       "      <td>A</td>\n",
       "      <td>no-dig</td>\n",
       "      <td>0</td>\n",
       "      <td>NaN</td>\n",
       "      <td>NaN</td>\n",
       "      <td>NaT</td>\n",
       "    </tr>\n",
       "    <tr>\n",
       "      <th>3</th>\n",
       "      <td>4</td>\n",
       "      <td>B</td>\n",
       "      <td>dig</td>\n",
       "      <td>1</td>\n",
       "      <td>75.0</td>\n",
       "      <td>75.0</td>\n",
       "      <td>2024-03-07</td>\n",
       "    </tr>\n",
       "    <tr>\n",
       "      <th>4</th>\n",
       "      <td>5</td>\n",
       "      <td>C</td>\n",
       "      <td>dig</td>\n",
       "      <td>1</td>\n",
       "      <td>131.0</td>\n",
       "      <td>135.0</td>\n",
       "      <td>2024-03-07</td>\n",
       "    </tr>\n",
       "  </tbody>\n",
       "</table>\n",
       "</div>"
      ],
      "text/plain": [
       "   plant_id bed_id bed_type  out_survive  height_1a  height_1b height_1_date\n",
       "0         1      A   no-dig            1       70.0       69.0    2024-03-07\n",
       "1         2      B      dig            1       70.0       77.0    2024-03-07\n",
       "2         3      A   no-dig            0        NaN        NaN           NaT\n",
       "3         4      B      dig            1       75.0       75.0    2024-03-07\n",
       "4         5      C      dig            1      131.0      135.0    2024-03-07"
      ]
     },
     "metadata": {},
     "output_type": "display_data"
    },
    {
     "name": "stdout",
     "output_type": "stream",
     "text": [
      "<class 'pandas.core.frame.DataFrame'>\n",
      "RangeIndex: 12 entries, 0 to 11\n",
      "Data columns (total 7 columns):\n",
      " #   Column         Non-Null Count  Dtype         \n",
      "---  ------         --------------  -----         \n",
      " 0   plant_id       12 non-null     int64         \n",
      " 1   bed_id         12 non-null     object        \n",
      " 2   bed_type       12 non-null     object        \n",
      " 3   out_survive    12 non-null     int64         \n",
      " 4   height_1a      9 non-null      float64       \n",
      " 5   height_1b      9 non-null      float64       \n",
      " 6   height_1_date  9 non-null      datetime64[ns]\n",
      "dtypes: datetime64[ns](1), float64(2), int64(2), object(2)\n",
      "memory usage: 804.0+ bytes\n"
     ]
    },
    {
     "data": {
      "text/plain": [
       "None"
      ]
     },
     "metadata": {},
     "output_type": "display_data"
    }
   ],
   "source": [
    "transplantation_date = pd.to_datetime('2024-02-02')\n",
    "\n",
    "data = pd.read_csv('data.csv')\n",
    "data['height_1_date'] = pd.to_datetime(data['height_1_date'], format=\"%d/%m/%Y\")\n",
    "display(data.head())\n",
    "display(data.info())"
   ]
  },
  {
   "cell_type": "markdown",
   "metadata": {},
   "source": [
    "# Live to harvest"
   ]
  },
  {
   "cell_type": "code",
   "execution_count": 56,
   "metadata": {},
   "outputs": [
    {
     "data": {
      "text/html": [
       "<div>\n",
       "<style scoped>\n",
       "    .dataframe tbody tr th:only-of-type {\n",
       "        vertical-align: middle;\n",
       "    }\n",
       "\n",
       "    .dataframe tbody tr th {\n",
       "        vertical-align: top;\n",
       "    }\n",
       "\n",
       "    .dataframe thead th {\n",
       "        text-align: right;\n",
       "    }\n",
       "</style>\n",
       "<table border=\"1\" class=\"dataframe\">\n",
       "  <thead>\n",
       "    <tr style=\"text-align: right;\">\n",
       "      <th>out_survive</th>\n",
       "      <th>0</th>\n",
       "      <th>1</th>\n",
       "    </tr>\n",
       "    <tr>\n",
       "      <th>bed_type</th>\n",
       "      <th></th>\n",
       "      <th></th>\n",
       "    </tr>\n",
       "  </thead>\n",
       "  <tbody>\n",
       "    <tr>\n",
       "      <th>dig</th>\n",
       "      <td>1</td>\n",
       "      <td>5</td>\n",
       "    </tr>\n",
       "    <tr>\n",
       "      <th>no-dig</th>\n",
       "      <td>2</td>\n",
       "      <td>4</td>\n",
       "    </tr>\n",
       "  </tbody>\n",
       "</table>\n",
       "</div>"
      ],
      "text/plain": [
       "out_survive  0  1\n",
       "bed_type         \n",
       "dig          1  5\n",
       "no-dig       2  4"
      ]
     },
     "execution_count": 56,
     "metadata": {},
     "output_type": "execute_result"
    }
   ],
   "source": [
    "survival_contingency = pd.crosstab(data.bed_type, data.out_survive)\n",
    "survival_contingency"
   ]
  },
  {
   "cell_type": "code",
   "execution_count": 57,
   "metadata": {},
   "outputs": [
    {
     "data": {
      "text/plain": [
       "BarnardExactResult(statistic=-0.6974858324629157, pvalue=0.7291618462276042)"
      ]
     },
     "execution_count": 57,
     "metadata": {},
     "output_type": "execute_result"
    }
   ],
   "source": [
    "barnard_exact(survival_contingency, alternative='two-sided', pooled=False, n=32)\n",
    "# Barnard becuase it is more powerful than Fisher and only one margin is fixed\n",
    "# unpooled as unknown if variences are the same for each group. Pooling assumes the same varience. https://cran.r-project.org/web/packages/Exact/Exact.pdf , https://stats.stackexchange.com/questions/169864/which-test-for-cross-table-analysis-boschloo-or-barnard"
   ]
  },
  {
   "cell_type": "code",
   "execution_count": 58,
   "metadata": {},
   "outputs": [
    {
     "data": {
      "text/plain": [
       "BarnardExactResult(statistic=-4.242640687119285, pvalue=0.06347656250000001)"
      ]
     },
     "execution_count": 58,
     "metadata": {},
     "output_type": "execute_result"
    }
   ],
   "source": [
    "barnard_exact([[0,6],[3,3]], alternative='two-sided', pooled=False, n=32)"
   ]
  },
  {
   "cell_type": "markdown",
   "metadata": {},
   "source": [
    "## Height"
   ]
  },
  {
   "cell_type": "code",
   "execution_count": 63,
   "metadata": {},
   "outputs": [
    {
     "data": {
      "text/html": [
       "<div>\n",
       "<style scoped>\n",
       "    .dataframe tbody tr th:only-of-type {\n",
       "        vertical-align: middle;\n",
       "    }\n",
       "\n",
       "    .dataframe tbody tr th {\n",
       "        vertical-align: top;\n",
       "    }\n",
       "\n",
       "    .dataframe thead th {\n",
       "        text-align: right;\n",
       "    }\n",
       "</style>\n",
       "<table border=\"1\" class=\"dataframe\">\n",
       "  <thead>\n",
       "    <tr style=\"text-align: right;\">\n",
       "      <th></th>\n",
       "      <th>plant_id</th>\n",
       "      <th>bed_id</th>\n",
       "      <th>bed_type</th>\n",
       "      <th>out_survive</th>\n",
       "      <th>height_1a</th>\n",
       "      <th>height_1b</th>\n",
       "      <th>height_1_date</th>\n",
       "      <th>height_1_mean</th>\n",
       "      <th>height_1_day</th>\n",
       "      <th>height_1_day_str</th>\n",
       "    </tr>\n",
       "  </thead>\n",
       "  <tbody>\n",
       "    <tr>\n",
       "      <th>0</th>\n",
       "      <td>1</td>\n",
       "      <td>A</td>\n",
       "      <td>no-dig</td>\n",
       "      <td>1</td>\n",
       "      <td>70.0</td>\n",
       "      <td>69.0</td>\n",
       "      <td>2024-03-07</td>\n",
       "      <td>69.5</td>\n",
       "      <td>34 days</td>\n",
       "      <td>34 days 00:00:00</td>\n",
       "    </tr>\n",
       "    <tr>\n",
       "      <th>1</th>\n",
       "      <td>2</td>\n",
       "      <td>B</td>\n",
       "      <td>dig</td>\n",
       "      <td>1</td>\n",
       "      <td>70.0</td>\n",
       "      <td>77.0</td>\n",
       "      <td>2024-03-07</td>\n",
       "      <td>73.5</td>\n",
       "      <td>34 days</td>\n",
       "      <td>34 days 00:00:00</td>\n",
       "    </tr>\n",
       "    <tr>\n",
       "      <th>2</th>\n",
       "      <td>3</td>\n",
       "      <td>A</td>\n",
       "      <td>no-dig</td>\n",
       "      <td>0</td>\n",
       "      <td>NaN</td>\n",
       "      <td>NaN</td>\n",
       "      <td>NaT</td>\n",
       "      <td>NaN</td>\n",
       "      <td>NaT</td>\n",
       "      <td>NaT</td>\n",
       "    </tr>\n",
       "    <tr>\n",
       "      <th>3</th>\n",
       "      <td>4</td>\n",
       "      <td>B</td>\n",
       "      <td>dig</td>\n",
       "      <td>1</td>\n",
       "      <td>75.0</td>\n",
       "      <td>75.0</td>\n",
       "      <td>2024-03-07</td>\n",
       "      <td>75.0</td>\n",
       "      <td>34 days</td>\n",
       "      <td>34 days 00:00:00</td>\n",
       "    </tr>\n",
       "    <tr>\n",
       "      <th>4</th>\n",
       "      <td>5</td>\n",
       "      <td>C</td>\n",
       "      <td>dig</td>\n",
       "      <td>1</td>\n",
       "      <td>131.0</td>\n",
       "      <td>135.0</td>\n",
       "      <td>2024-03-07</td>\n",
       "      <td>133.0</td>\n",
       "      <td>34 days</td>\n",
       "      <td>34 days 00:00:00</td>\n",
       "    </tr>\n",
       "    <tr>\n",
       "      <th>5</th>\n",
       "      <td>6</td>\n",
       "      <td>D</td>\n",
       "      <td>no-dig</td>\n",
       "      <td>0</td>\n",
       "      <td>NaN</td>\n",
       "      <td>NaN</td>\n",
       "      <td>NaT</td>\n",
       "      <td>NaN</td>\n",
       "      <td>NaT</td>\n",
       "      <td>NaT</td>\n",
       "    </tr>\n",
       "    <tr>\n",
       "      <th>6</th>\n",
       "      <td>7</td>\n",
       "      <td>C</td>\n",
       "      <td>dig</td>\n",
       "      <td>0</td>\n",
       "      <td>NaN</td>\n",
       "      <td>NaN</td>\n",
       "      <td>NaT</td>\n",
       "      <td>NaN</td>\n",
       "      <td>NaT</td>\n",
       "      <td>NaT</td>\n",
       "    </tr>\n",
       "    <tr>\n",
       "      <th>7</th>\n",
       "      <td>8</td>\n",
       "      <td>D</td>\n",
       "      <td>no-dig</td>\n",
       "      <td>1</td>\n",
       "      <td>113.0</td>\n",
       "      <td>114.0</td>\n",
       "      <td>2024-03-07</td>\n",
       "      <td>113.5</td>\n",
       "      <td>34 days</td>\n",
       "      <td>34 days 00:00:00</td>\n",
       "    </tr>\n",
       "    <tr>\n",
       "      <th>8</th>\n",
       "      <td>9</td>\n",
       "      <td>E</td>\n",
       "      <td>dig</td>\n",
       "      <td>1</td>\n",
       "      <td>113.0</td>\n",
       "      <td>112.0</td>\n",
       "      <td>2024-03-07</td>\n",
       "      <td>112.5</td>\n",
       "      <td>34 days</td>\n",
       "      <td>34 days 00:00:00</td>\n",
       "    </tr>\n",
       "    <tr>\n",
       "      <th>9</th>\n",
       "      <td>10</td>\n",
       "      <td>E</td>\n",
       "      <td>dig</td>\n",
       "      <td>1</td>\n",
       "      <td>70.0</td>\n",
       "      <td>70.0</td>\n",
       "      <td>2024-03-07</td>\n",
       "      <td>70.0</td>\n",
       "      <td>34 days</td>\n",
       "      <td>34 days 00:00:00</td>\n",
       "    </tr>\n",
       "    <tr>\n",
       "      <th>10</th>\n",
       "      <td>11</td>\n",
       "      <td>F</td>\n",
       "      <td>no-dig</td>\n",
       "      <td>1</td>\n",
       "      <td>67.0</td>\n",
       "      <td>69.0</td>\n",
       "      <td>2024-03-07</td>\n",
       "      <td>68.0</td>\n",
       "      <td>34 days</td>\n",
       "      <td>34 days 00:00:00</td>\n",
       "    </tr>\n",
       "    <tr>\n",
       "      <th>11</th>\n",
       "      <td>12</td>\n",
       "      <td>F</td>\n",
       "      <td>no-dig</td>\n",
       "      <td>1</td>\n",
       "      <td>55.0</td>\n",
       "      <td>47.0</td>\n",
       "      <td>2024-03-07</td>\n",
       "      <td>51.0</td>\n",
       "      <td>34 days</td>\n",
       "      <td>34 days 00:00:00</td>\n",
       "    </tr>\n",
       "  </tbody>\n",
       "</table>\n",
       "</div>"
      ],
      "text/plain": [
       "    plant_id bed_id bed_type  out_survive  height_1a  height_1b height_1_date  \\\n",
       "0          1      A   no-dig            1       70.0       69.0    2024-03-07   \n",
       "1          2      B      dig            1       70.0       77.0    2024-03-07   \n",
       "2          3      A   no-dig            0        NaN        NaN           NaT   \n",
       "3          4      B      dig            1       75.0       75.0    2024-03-07   \n",
       "4          5      C      dig            1      131.0      135.0    2024-03-07   \n",
       "5          6      D   no-dig            0        NaN        NaN           NaT   \n",
       "6          7      C      dig            0        NaN        NaN           NaT   \n",
       "7          8      D   no-dig            1      113.0      114.0    2024-03-07   \n",
       "8          9      E      dig            1      113.0      112.0    2024-03-07   \n",
       "9         10      E      dig            1       70.0       70.0    2024-03-07   \n",
       "10        11      F   no-dig            1       67.0       69.0    2024-03-07   \n",
       "11        12      F   no-dig            1       55.0       47.0    2024-03-07   \n",
       "\n",
       "    height_1_mean height_1_day  height_1_day_str  \n",
       "0            69.5      34 days  34 days 00:00:00  \n",
       "1            73.5      34 days  34 days 00:00:00  \n",
       "2             NaN          NaT               NaT  \n",
       "3            75.0      34 days  34 days 00:00:00  \n",
       "4           133.0      34 days  34 days 00:00:00  \n",
       "5             NaN          NaT               NaT  \n",
       "6             NaN          NaT               NaT  \n",
       "7           113.5      34 days  34 days 00:00:00  \n",
       "8           112.5      34 days  34 days 00:00:00  \n",
       "9            70.0      34 days  34 days 00:00:00  \n",
       "10           68.0      34 days  34 days 00:00:00  \n",
       "11           51.0      34 days  34 days 00:00:00  "
      ]
     },
     "execution_count": 63,
     "metadata": {},
     "output_type": "execute_result"
    }
   ],
   "source": [
    "data['height_1_mean'] = (data['height_1a']+data['height_1b'])/2\n",
    "data['height_1_day'] = data['height_1_date'] - transplantation_date\n",
    "data['height_1_day_str'] = data['height_1_day'].apply(str)\n",
    "data"
   ]
  },
  {
   "cell_type": "code",
   "execution_count": 66,
   "metadata": {},
   "outputs": [
    {
     "name": "stderr",
     "output_type": "stream",
     "text": [
      "c:\\Users\\acbre\\anaconda3\\envs\\default\\Lib\\site-packages\\seaborn\\_oldcore.py:1119: FutureWarning: use_inf_as_na option is deprecated and will be removed in a future version. Convert inf values to NaN before operating instead.\n",
      "  with pd.option_context('mode.use_inf_as_na', True):\n",
      "c:\\Users\\acbre\\anaconda3\\envs\\default\\Lib\\site-packages\\seaborn\\_oldcore.py:1119: FutureWarning: use_inf_as_na option is deprecated and will be removed in a future version. Convert inf values to NaN before operating instead.\n",
      "  with pd.option_context('mode.use_inf_as_na', True):\n"
     ]
    },
    {
     "data": {
      "image/png": "[encoded data removed]",
      "text/plain": [
       "<Figure size 640x480 with 1 Axes>"
      ]
     },
     "metadata": {},
     "output_type": "display_data"
    }
   ],
   "source": [
    "sns.stripplot(data=data, y='height_1_mean', x='height_1_day_str', hue='bed_type', jitter=True)\n",
    "plt.show()"
   ]
  },
  {
   "cell_type": "code",
   "execution_count": 65,
   "metadata": {},
   "outputs": [
    {
     "data": {
      "text/plain": [
       "TtestResult(statistic=0.9328677792620035, pvalue=0.3819387891001678, df=7.0)"
      ]
     },
     "execution_count": 65,
     "metadata": {},
     "output_type": "execute_result"
    }
   ],
   "source": [
    "a = data[((data['bed_type']=='dig')&(data['height_1_mean'].isna()==False))]['height_1_mean']\n",
    "b = data[((data['bed_type']=='no-dig')&(data['height_1_mean'].isna()==False))]['height_1_mean']\n",
    "ttest_ind(a=a, b=b, equal_var=True, nan_policy='raise', permutations=None, alternative='two-sided', trim=0)"
   ]
  },
  {
   "cell_type": "code",
   "execution_count": 62,
   "metadata": {},
   "outputs": [
    {
     "data": {
      "text/plain": [
       "0    2024-03-07\n",
       "1    2024-03-07\n",
       "2           NaT\n",
       "3    2024-03-07\n",
       "4    2024-03-07\n",
       "5           NaT\n",
       "6           NaT\n",
       "7    2024-03-07\n",
       "8    2024-03-07\n",
       "9    2024-03-07\n",
       "10   2024-03-07\n",
       "11   2024-03-07\n",
       "Name: height_1_date, dtype: datetime64[ns]"
      ]
     },
     "execution_count": 62,
     "metadata": {},
     "output_type": "execute_result"
    }
   ],
   "source": [
    "data['height_1_date']"
   ]
  },
  {
   "cell_type": "code",
   "execution_count": null,
   "metadata": {},
   "outputs": [],
   "source": []
  }
 ],
 "metadata": {
  "kernelspec": {
   "display_name": "default",
   "language": "python",
   "name": "python3"
  },
  "language_info": {
   "codemirror_mode": {
    "name": "ipython",
    "version": 3
   },
   "file_extension": ".py",
   "mimetype": "text/x-python",
   "name": "python",
   "nbconvert_exporter": "python",
   "pygments_lexer": "ipython3",
   "version": "3.11.5"
  }
 },
 "nbformat": 4,
 "nbformat_minor": 2
}
