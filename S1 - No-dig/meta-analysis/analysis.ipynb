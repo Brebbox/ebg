{
 "cells": [
  {
   "cell_type": "code",
   "execution_count": null,
   "metadata": {},
   "outputs": [],
   "source": [
    "import pandas as pd\n",
    "import numpy as np\n",
    "import scipy.stats as st\n",
    "from scipy.stats import barnard_exact, ttest_ind\n",
    "import matplotlib.pyplot as plt\n",
    "import seaborn as sns\n",
    "from sklearn.linear_model import LinearRegression\n",
    "import statsmodels.api as sm"
   ]
  },
  {
   "cell_type": "code",
   "execution_count": null,
   "metadata": {},
   "outputs": [],
   "source": [
    "def load_data():\n",
    "    df = pd.read_excel('data.xlsx')\n",
    "    df = pd.merge(df, pd.get_dummies(df['bed_type'], drop_first=True, dtype=float), left_index=True, right_index=True)\n",
    "    display(df.head())\n",
    "    display(df.info())\n",
    "    \n",
    "    return df\n",
    "\n",
    "df = load_data()"
   ]
  },
  {
   "cell_type": "code",
   "execution_count": null,
   "metadata": {},
   "outputs": [],
   "source": [
    "def transform_data(df):\n",
    "\n",
    "    return df\n",
    "\n",
    "transform_data(df)"
   ]
  },
  {
   "cell_type": "code",
   "execution_count": null,
   "metadata": {},
   "outputs": [],
   "source": [
    "def drop_na(df):\n",
    "    print(f'There are {len(df)} samples.')\n",
    "    mask = df['yield_g'].isna()\n",
    "    print(f'Excluding {sum(mask)} samples with nan yield.')\n",
    "    df = df[mask==False]\n",
    "    print(f'{len(df)} samples remain.')\n",
    "    return df"
   ]
  },
  {
   "cell_type": "code",
   "execution_count": null,
   "metadata": {},
   "outputs": [],
   "source": [
    "def yield_linear_regression(df):\n",
    "    df = drop_na(df)\n",
    "    X = np.array(df[['no-dig', 'wall_distance_e_mm', 'wall_distance_s_mm']])\n",
    "    y = np.array(df[['yield_g']])\n",
    "    X = sm.add_constant(X)\n",
    "    print(y)\n",
    "    print(X)\n",
    "\n",
    "    mod = sm.OLS(y, X)\n",
    "    res = mod.fit()\n",
    "\n",
    "    print(res.summary())\n",
    "    \n",
    "yield_linear_regression(df)"
   ]
  }
 ],
 "metadata": {
  "language_info": {
   "name": "python"
  }
 },
 "nbformat": 4,
 "nbformat_minor": 2
}
