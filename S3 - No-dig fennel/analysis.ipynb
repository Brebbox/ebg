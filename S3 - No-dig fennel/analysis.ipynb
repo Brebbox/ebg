{
 "cells": [
  {
   "cell_type": "code",
   "execution_count": 7,
   "metadata": {},
   "outputs": [],
   "source": [
    "import pandas as pd\n",
    "from scipy.stats import barnard_exact, ttest_ind\n",
    "import statsmodels.api as sm\n",
    "import numpy as np"
   ]
  },
  {
   "cell_type": "code",
   "execution_count": 6,
   "metadata": {},
   "outputs": [
    {
     "data": {
      "text/html": [
       "<div>\n",
       "<style scoped>\n",
       "    .dataframe tbody tr th:only-of-type {\n",
       "        vertical-align: middle;\n",
       "    }\n",
       "\n",
       "    .dataframe tbody tr th {\n",
       "        vertical-align: top;\n",
       "    }\n",
       "\n",
       "    .dataframe thead th {\n",
       "        text-align: right;\n",
       "    }\n",
       "</style>\n",
       "<table border=\"1\" class=\"dataframe\">\n",
       "  <thead>\n",
       "    <tr style=\"text-align: right;\">\n",
       "      <th></th>\n",
       "      <th>plant_id</th>\n",
       "      <th>bed_id</th>\n",
       "      <th>bed_type</th>\n",
       "      <th>height_30d_mm</th>\n",
       "      <th>height_30d_date</th>\n",
       "      <th>survived_to_harvest</th>\n",
       "      <th>yield_g</th>\n",
       "      <th>harvest_date</th>\n",
       "      <th>wall_distance_e_mm</th>\n",
       "      <th>wall_distance_s_mm</th>\n",
       "      <th>no-dig</th>\n",
       "    </tr>\n",
       "  </thead>\n",
       "  <tbody>\n",
       "    <tr>\n",
       "      <th>0</th>\n",
       "      <td>1</td>\n",
       "      <td>A</td>\n",
       "      <td>dig</td>\n",
       "      <td>300.0</td>\n",
       "      <td>2024-04-25</td>\n",
       "      <td>1</td>\n",
       "      <td>151.9</td>\n",
       "      <td>2024-07-06</td>\n",
       "      <td>3700</td>\n",
       "      <td>600</td>\n",
       "      <td>0.0</td>\n",
       "    </tr>\n",
       "    <tr>\n",
       "      <th>1</th>\n",
       "      <td>2</td>\n",
       "      <td>A</td>\n",
       "      <td>dig</td>\n",
       "      <td>120.0</td>\n",
       "      <td>2024-04-25</td>\n",
       "      <td>1</td>\n",
       "      <td>6.5</td>\n",
       "      <td>2024-07-06</td>\n",
       "      <td>3550</td>\n",
       "      <td>600</td>\n",
       "      <td>0.0</td>\n",
       "    </tr>\n",
       "    <tr>\n",
       "      <th>2</th>\n",
       "      <td>3</td>\n",
       "      <td>A</td>\n",
       "      <td>dig</td>\n",
       "      <td>280.0</td>\n",
       "      <td>2024-04-25</td>\n",
       "      <td>1</td>\n",
       "      <td>87.9</td>\n",
       "      <td>2024-07-06</td>\n",
       "      <td>3400</td>\n",
       "      <td>600</td>\n",
       "      <td>0.0</td>\n",
       "    </tr>\n",
       "    <tr>\n",
       "      <th>3</th>\n",
       "      <td>4</td>\n",
       "      <td>A</td>\n",
       "      <td>dig</td>\n",
       "      <td>230.0</td>\n",
       "      <td>2024-04-25</td>\n",
       "      <td>1</td>\n",
       "      <td>59.2</td>\n",
       "      <td>2024-07-06</td>\n",
       "      <td>3250</td>\n",
       "      <td>600</td>\n",
       "      <td>0.0</td>\n",
       "    </tr>\n",
       "    <tr>\n",
       "      <th>4</th>\n",
       "      <td>5</td>\n",
       "      <td>A</td>\n",
       "      <td>dig</td>\n",
       "      <td>160.0</td>\n",
       "      <td>2024-04-25</td>\n",
       "      <td>1</td>\n",
       "      <td>10.3</td>\n",
       "      <td>2024-07-06</td>\n",
       "      <td>3100</td>\n",
       "      <td>600</td>\n",
       "      <td>0.0</td>\n",
       "    </tr>\n",
       "  </tbody>\n",
       "</table>\n",
       "</div>"
      ],
      "text/plain": [
       "   plant_id bed_id bed_type  height_30d_mm height_30d_date  \\\n",
       "0         1      A      dig          300.0      2024-04-25   \n",
       "1         2      A      dig          120.0      2024-04-25   \n",
       "2         3      A      dig          280.0      2024-04-25   \n",
       "3         4      A      dig          230.0      2024-04-25   \n",
       "4         5      A      dig          160.0      2024-04-25   \n",
       "\n",
       "   survived_to_harvest  yield_g harvest_date  wall_distance_e_mm  \\\n",
       "0                    1    151.9   2024-07-06                3700   \n",
       "1                    1      6.5   2024-07-06                3550   \n",
       "2                    1     87.9   2024-07-06                3400   \n",
       "3                    1     59.2   2024-07-06                3250   \n",
       "4                    1     10.3   2024-07-06                3100   \n",
       "\n",
       "   wall_distance_s_mm  no-dig  \n",
       "0                 600     0.0  \n",
       "1                 600     0.0  \n",
       "2                 600     0.0  \n",
       "3                 600     0.0  \n",
       "4                 600     0.0  "
      ]
     },
     "metadata": {},
     "output_type": "display_data"
    },
    {
     "name": "stdout",
     "output_type": "stream",
     "text": [
      "<class 'pandas.core.frame.DataFrame'>\n",
      "RangeIndex: 18 entries, 0 to 17\n",
      "Data columns (total 11 columns):\n",
      " #   Column               Non-Null Count  Dtype         \n",
      "---  ------               --------------  -----         \n",
      " 0   plant_id             18 non-null     int64         \n",
      " 1   bed_id               18 non-null     object        \n",
      " 2   bed_type             18 non-null     object        \n",
      " 3   height_30d_mm        14 non-null     float64       \n",
      " 4   height_30d_date      18 non-null     datetime64[ns]\n",
      " 5   survived_to_harvest  18 non-null     int64         \n",
      " 6   yield_g              13 non-null     float64       \n",
      " 7   harvest_date         13 non-null     datetime64[ns]\n",
      " 8   wall_distance_e_mm   18 non-null     int64         \n",
      " 9   wall_distance_s_mm   18 non-null     int64         \n",
      " 10  no-dig               18 non-null     float64       \n",
      "dtypes: datetime64[ns](2), float64(3), int64(4), object(2)\n",
      "memory usage: 1.7+ KB\n"
     ]
    },
    {
     "data": {
      "text/plain": [
       "None"
      ]
     },
     "metadata": {},
     "output_type": "display_data"
    }
   ],
   "source": [
    "def read_data():\n",
    "    df = pd.read_excel('data.xlsx')\n",
    "    df = pd.merge(df, pd.get_dummies(df['bed_type'], drop_first=True, dtype=float), left_index=True, right_index=True)\n",
    "    display(df.head())\n",
    "    display(df.info())\n",
    "    \n",
    "    return df\n",
    "\n",
    "df = read_data()"
   ]
  },
  {
   "cell_type": "markdown",
   "metadata": {},
   "source": [
    "# Survival to harvest"
   ]
  },
  {
   "cell_type": "code",
   "execution_count": 3,
   "metadata": {},
   "outputs": [
    {
     "data": {
      "text/html": [
       "<div>\n",
       "<style scoped>\n",
       "    .dataframe tbody tr th:only-of-type {\n",
       "        vertical-align: middle;\n",
       "    }\n",
       "\n",
       "    .dataframe tbody tr th {\n",
       "        vertical-align: top;\n",
       "    }\n",
       "\n",
       "    .dataframe thead th {\n",
       "        text-align: right;\n",
       "    }\n",
       "</style>\n",
       "<table border=\"1\" class=\"dataframe\">\n",
       "  <thead>\n",
       "    <tr style=\"text-align: right;\">\n",
       "      <th>survived_to_harvest</th>\n",
       "      <th>0</th>\n",
       "      <th>1</th>\n",
       "    </tr>\n",
       "    <tr>\n",
       "      <th>bed_type</th>\n",
       "      <th></th>\n",
       "      <th></th>\n",
       "    </tr>\n",
       "  </thead>\n",
       "  <tbody>\n",
       "    <tr>\n",
       "      <th>Dig</th>\n",
       "      <td>2</td>\n",
       "      <td>7</td>\n",
       "    </tr>\n",
       "    <tr>\n",
       "      <th>No-dig</th>\n",
       "      <td>3</td>\n",
       "      <td>6</td>\n",
       "    </tr>\n",
       "  </tbody>\n",
       "</table>\n",
       "</div>"
      ],
      "text/plain": [
       "survived_to_harvest  0  1\n",
       "bed_type                 \n",
       "Dig                  2  7\n",
       "No-dig               3  6"
      ]
     },
     "metadata": {},
     "output_type": "display_data"
    },
    {
     "data": {
      "text/plain": [
       "BarnardExactResult(statistic=-0.5344572305152208, pvalue=0.7294983244707437)"
      ]
     },
     "metadata": {},
     "output_type": "display_data"
    }
   ],
   "source": [
    "def survive_to_harvest_analysis(df):\n",
    "    survival_contingency = pd.crosstab(df.bed_type, df.survived_to_harvest)\n",
    "    display(survival_contingency)\n",
    "    # Barnard becuase it is more powerful than Fisher and only one margin is fixed\n",
    "    # unpooled as unknown if variences are the same for each group. Pooling assumes the same varience. https://cran.r-project.org/web/packages/Exact/Exact.pdf , https://stats.stackexchange.com/questions/169864/which-test-for-cross-table-analysis-boschloo-or-barnard\n",
    "    display(barnard_exact(survival_contingency, alternative='two-sided', pooled=False, n=32))\n",
    "\n",
    "survive_to_harvest_analysis(df)"
   ]
  },
  {
   "cell_type": "markdown",
   "metadata": {},
   "source": [
    "# Yield\n",
    "\n",
    "## Simple hypothesis testing"
   ]
  },
  {
   "cell_type": "code",
   "execution_count": 4,
   "metadata": {},
   "outputs": [
    {
     "name": "stdout",
     "output_type": "stream",
     "text": [
      "There are 18 samples.\n",
      "Excluding 5 samples with nan yield.\n",
      "13 samples remain.\n",
      "\n",
      "The Dig yield mean is 90.21428571428571 g\n",
      "The No-dig yield mean is 67.55 g\n"
     ]
    },
    {
     "data": {
      "text/plain": [
       "TtestResult(statistic=0.5179628986230862, pvalue=0.614741985581841, df=11.0)"
      ]
     },
     "metadata": {},
     "output_type": "display_data"
    }
   ],
   "source": [
    "def yield_analysis(df):\n",
    "    print(f'There are {len(df)} samples.')\n",
    "    mask = df['yield_g'].isna()\n",
    "    print(f'Excluding {sum(mask)} samples with nan yield.')\n",
    "    df = df[mask==False]\n",
    "    print(f'{len(df)} samples remain.')\n",
    "\n",
    "    a = df[df['bed_type']=='Dig']['yield_g']\n",
    "    b = df[df['bed_type']=='No-dig']['yield_g']\n",
    "\n",
    "    print()\n",
    "    print(f'The Dig yield mean is {a.mean()} g')\n",
    "    print(f'The No-dig yield mean is {b.mean()} g')\n",
    "\n",
    "    display(ttest_ind(a=a, b=b, equal_var=True, nan_policy='raise', permutations=None, alternative='two-sided', trim=0))\n",
    "\n",
    "yield_analysis(df)"
   ]
  },
  {
   "cell_type": "markdown",
   "metadata": {},
   "source": [
    "## Linear regression"
   ]
  },
  {
   "cell_type": "code",
   "execution_count": 8,
   "metadata": {},
   "outputs": [
    {
     "name": "stdout",
     "output_type": "stream",
     "text": [
      "There are 18 samples.\n",
      "Excluding 5 samples with nan yield.\n",
      "13 samples remain.\n",
      "[[151.9]\n",
      " [  6.5]\n",
      " [ 87.9]\n",
      " [ 59.2]\n",
      " [ 10.3]\n",
      " [ 31.2]\n",
      " [ 55.4]\n",
      " [ 34.1]\n",
      " [281.6]\n",
      " [ 65.5]\n",
      " [ 55.1]\n",
      " [156. ]\n",
      " [ 42.1]]\n",
      "[[1.00e+00 0.00e+00 3.70e+03 6.00e+02]\n",
      " [1.00e+00 0.00e+00 3.55e+03 6.00e+02]\n",
      " [1.00e+00 0.00e+00 3.40e+03 6.00e+02]\n",
      " [1.00e+00 0.00e+00 3.25e+03 6.00e+02]\n",
      " [1.00e+00 0.00e+00 3.10e+03 6.00e+02]\n",
      " [1.00e+00 1.00e+00 2.80e+03 6.00e+02]\n",
      " [1.00e+00 1.00e+00 2.65e+03 6.00e+02]\n",
      " [1.00e+00 0.00e+00 3.40e+03 4.00e+02]\n",
      " [1.00e+00 0.00e+00 3.10e+03 4.00e+02]\n",
      " [1.00e+00 1.00e+00 2.80e+03 4.00e+02]\n",
      " [1.00e+00 1.00e+00 2.65e+03 4.00e+02]\n",
      " [1.00e+00 1.00e+00 2.50e+03 4.00e+02]\n",
      " [1.00e+00 1.00e+00 2.35e+03 4.00e+02]]\n",
      "                            OLS Regression Results                            \n",
      "==============================================================================\n",
      "Dep. Variable:                      y   R-squared:                       0.201\n",
      "Model:                            OLS   Adj. R-squared:                 -0.066\n",
      "Method:                 Least Squares   F-statistic:                    0.7540\n",
      "Date:                Wed, 24 Jul 2024   Prob (F-statistic):              0.547\n",
      "Time:                        15:30:19   Log-Likelihood:                -72.805\n",
      "No. Observations:                  13   AIC:                             153.6\n",
      "Df Residuals:                       9   BIC:                             155.9\n",
      "Df Model:                           3                                         \n",
      "Covariance Type:            nonrobust                                         \n",
      "==============================================================================\n",
      "                 coef    std err          t      P>|t|      [0.025      0.975]\n",
      "------------------------------------------------------------------------------\n",
      "const        320.7706    392.663      0.817      0.435    -567.496    1209.037\n",
      "x1           -59.4421     96.967     -0.613      0.555    -278.798     159.913\n",
      "x2            -0.0169      0.125     -0.135      0.896      -0.301       0.267\n",
      "x3            -0.3200      0.255     -1.256      0.241      -0.896       0.256\n",
      "==============================================================================\n",
      "Omnibus:                        1.170   Durbin-Watson:                   2.937\n",
      "Prob(Omnibus):                  0.557   Jarque-Bera (JB):                0.753\n",
      "Skew:                           0.553   Prob(JB):                        0.686\n",
      "Kurtosis:                       2.592   Cond. No.                     5.70e+04\n",
      "==============================================================================\n",
      "\n",
      "Notes:\n",
      "[1] Standard Errors assume that the covariance matrix of the errors is correctly specified.\n",
      "[2] The condition number is large, 5.7e+04. This might indicate that there are\n",
      "strong multicollinearity or other numerical problems.\n"
     ]
    },
    {
     "name": "stderr",
     "output_type": "stream",
     "text": [
      "c:\\Users\\acbre\\anaconda3\\envs\\default\\Lib\\site-packages\\scipy\\stats\\_stats_py.py:1806: UserWarning: kurtosistest only valid for n>=20 ... continuing anyway, n=13\n",
      "  warnings.warn(\"kurtosistest only valid for n>=20 ... continuing \"\n"
     ]
    }
   ],
   "source": [
    "def drop_na(df):\n",
    "    print(f'There are {len(df)} samples.')\n",
    "    mask = df['yield_g'].isna()\n",
    "    print(f'Excluding {sum(mask)} samples with nan yield.')\n",
    "    df = df[mask==False]\n",
    "    print(f'{len(df)} samples remain.')\n",
    "    return df\n",
    "\n",
    "\n",
    "def yield_linear_regression(df):\n",
    "    df = drop_na(df)\n",
    "    X = np.array(df[['no-dig', 'wall_distance_e_mm', 'wall_distance_s_mm']])\n",
    "    y = np.array(df[['yield_g']])\n",
    "    X = sm.add_constant(X)\n",
    "    print(y)\n",
    "    print(X)\n",
    "\n",
    "    mod = sm.OLS(y, X)\n",
    "    res = mod.fit()\n",
    "\n",
    "    print(res.summary())\n",
    "    \n",
    "yield_linear_regression(df)"
   ]
  },
  {
   "cell_type": "code",
   "execution_count": null,
   "metadata": {},
   "outputs": [],
   "source": []
  },
  {
   "cell_type": "code",
   "execution_count": null,
   "metadata": {},
   "outputs": [],
   "source": []
  },
  {
   "cell_type": "code",
   "execution_count": null,
   "metadata": {},
   "outputs": [],
   "source": []
  },
  {
   "cell_type": "code",
   "execution_count": null,
   "metadata": {},
   "outputs": [],
   "source": []
  },
  {
   "cell_type": "code",
   "execution_count": null,
   "metadata": {},
   "outputs": [],
   "source": []
  }
 ],
 "metadata": {
  "kernelspec": {
   "display_name": "default",
   "language": "python",
   "name": "python3"
  },
  "language_info": {
   "codemirror_mode": {
    "name": "ipython",
    "version": 3
   },
   "file_extension": ".py",
   "mimetype": "text/x-python",
   "name": "python",
   "nbconvert_exporter": "python",
   "pygments_lexer": "ipython3",
   "version": "3.11.5"
  }
 },
 "nbformat": 4,
 "nbformat_minor": 2
}
